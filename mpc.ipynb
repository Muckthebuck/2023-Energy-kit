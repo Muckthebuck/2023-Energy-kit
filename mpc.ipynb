{
 "cells": [
  {
   "cell_type": "code",
   "execution_count": null,
   "metadata": {},
   "outputs": [],
   "source": [
    "##MPC mock up\n",
    "#temp_old = temp_initial #1 day of data\n",
    "#sol_old = sol_initial\n",
    "#load_old = load_initial\n",
    "\n",
    "#for i in time:\n",
    "#   temp = ML_temp(temp_old) #1 day of data\n",
    "#   sol = ML_sol(sol_old)\n",
    "#   load = ML_load(load_old)\n",
    "\n",
    "##forcasted pv, curtialed pv, net pv, ehp P input, net BESS, SoC (kWh), internal temp, power in, power out\n",
    "#   m = optimisation(temp, sol, load) #optimal values for 1 day\n",
    "#   forcasted_pv[i] = m.PV_f[0] #take the first value\n",
    "#   curtailed_pv[i] = m.PV_curt[0]\n",
    "#   net_pv[i] = m.PV_gen[0]\n",
    "#   EHP_input[i] = m.ehp_E_input[0]\n",
    "#   net_BESS[i] = m.BESS_net[0]\n",
    "#   SoC[i] = m.SoC[0]\n",
    "#   internal_temp[i] = m.temp[0]\n",
    "#   power_in[i] = m.P_in[0]\n",
    "#   power_out[1] = m.P_out[0]\n",
    "#   cost[i] = m.objective[0]\n",
    "\n",
    "#   temp_old = temp_old[1:47]+temp_new[i] #shuffle data along\n",
    "#   sol_old = sol_old[1:47]+sol_new[i]\n",
    "#   load_old = load_old[1:47]+load_new[i]"
   ]
  }
 ],
 "metadata": {
  "language_info": {
   "name": "python"
  },
  "orig_nbformat": 4
 },
 "nbformat": 4,
 "nbformat_minor": 2
}
