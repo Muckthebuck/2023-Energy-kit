{
 "cells": [
  {
   "cell_type": "code",
   "execution_count": 6,
   "metadata": {},
   "outputs": [
    {
     "name": "stdout",
     "output_type": "stream",
     "text": [
      "it ran\n"
     ]
    }
   ],
   "source": [
    "import typing\n",
    "from typing import TypeVar\n",
    "\n",
    "class model:\n",
    "    #parameters\n",
    "\n",
    "    def scheduler_fn(self):\n",
    "\n",
    "        t = 0\n",
    "\n",
    "        while True:\n",
    "            #predict\n",
    "            self.predict()\n",
    "            #call controller model\n",
    "            self.controller_model()\n",
    "\n",
    "            #graph battery, heat pumps etc\n",
    "            self.graph()\n",
    "            print(\"it ran\")\n",
    "            t+=1\n",
    "            break\n",
    "\n",
    "\n",
    "    def predict(self):\n",
    "        pass\n",
    "\n",
    "    def controller_model(self):\n",
    "        pass\n",
    "\n",
    "    def graph(self):\n",
    "        pass\n",
    "\n",
    "\n",
    "    m = model()\n",
    "    m.scheduler_fn()"
   ]
  }
 ],
 "metadata": {
  "kernelspec": {
   "display_name": "SOML",
   "language": "python",
   "name": "python3"
  },
  "language_info": {
   "codemirror_mode": {
    "name": "ipython",
    "version": 3
   },
   "file_extension": ".py",
   "mimetype": "text/x-python",
   "name": "python",
   "nbconvert_exporter": "python",
   "pygments_lexer": "ipython3",
   "version": "3.8.16"
  },
  "orig_nbformat": 4
 },
 "nbformat": 4,
 "nbformat_minor": 2
}
