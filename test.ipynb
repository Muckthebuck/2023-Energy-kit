{
 "cells": [
  {
   "cell_type": "code",
   "execution_count": null,
   "metadata": {},
   "outputs": [],
   "source": [
    "import typing\n",
    "from typing import TypeVar\n",
    "\n",
    "class model:\n",
    "    #parameters\n",
    "\n",
    "    def scheduler_fn(self):\n",
    "\n",
    "        t = 0\n",
    "\n",
    "        while True:\n",
    "            #predict\n",
    "            self.predict()\n",
    "            #call controller model\n",
    "            self.controller_model()\n",
    "\n",
    "            #graph battery, heat pumps etc\n",
    "            self.graph()\n",
    "            t+=1\n",
    "\n",
    "\n",
    "    def predict(self):\n",
    "        pass\n",
    "\n",
    "    def controller_model(self):\n",
    "        pass\n",
    "\n",
    "    def graph(self):\n",
    "        pass\n"
   ]
  }
 ],
 "metadata": {
  "language_info": {
   "name": "python"
  },
  "orig_nbformat": 4
 },
 "nbformat": 4,
 "nbformat_minor": 2
}
