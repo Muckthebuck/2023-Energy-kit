{
 "cells": [
  {
   "cell_type": "code",
   "execution_count": 2,
   "id": "b2eadf8e",
   "metadata": {},
   "outputs": [
    {
     "name": "stdout",
     "output_type": "stream",
     "text": [
      "[14.8, 14.3, 12.2, 15.0, 13.4, 13.0, 13.0, 13.2, 13.6, 13.8, 13.4, 13.2, 12.4, 11.8, 11.4, 11.3, 11.6, 12.2, 11.6, 13.4, 14.0, 14.5, 14.6, 14.5, 14.3, 14.7, 14.7, 14.6, 14.7, 14.8, 15.0, 15.2, 15.4, 15.5, 15.3, 15.3, 15.6, 15.3, 15.6, 15.1, 15.6, 17.0, 18.4, 19.0, 19.8, 19.8, 19.9, 18.4]\n"
     ]
    }
   ],
   "source": [
    "#temperature\n",
    "#(we can only get 72 hours at one time from this source)\n",
    "#Longer term data is difficult to obtain at half hour intervals.\n",
    "#http://www.bom.gov.au/products/IDV60901/IDV60901.95936.shtml#other_formats\n",
    "import pandas as pd\n",
    "import os\n",
    "mydir = os.getcwd()\n",
    "loc = mydir + '/temp.json'\n",
    "import json\n",
    "f = open(loc)\n",
    "data = json.load(f)\n",
    "weather = data['observations']['data'] #This gives all kind of information as a dict at every time point\n",
    "\n",
    "temp = []\n",
    "for t in weather[0:48]: #can choose how many data point here up to 72.\n",
    "    temp.append(t['air_temp'])\n",
    "\n",
    "print(temp)"
   ]
  },
  {
   "cell_type": "code",
   "execution_count": 3,
   "id": "733ae544",
   "metadata": {},
   "outputs": [
    {
     "name": "stdout",
     "output_type": "stream",
     "text": [
      "[0.176 0.176 0.086 0.086 0.086 0.086 0.176 0.086 0.176 0.086 0.176 0.086\n",
      " 0.176 0.086 0.176 0.086 0.176 0.086 0.176 0.086 0.181 0.091 0.181 0.086\n",
      " 0.086 0.086 0.178 0.178 0.178 0.178 0.178 0.178 0.178 0.178 0.178 0.178\n",
      " 0.178 0.268 0.178 0.268 0.178 0.268 0.298 0.388 0.298 0.388 0.298 0.176]\n"
     ]
    }
   ],
   "source": [
    "#load data\n",
    "#This source can include pv, battery, and EHP data but I have zeroed those so we can control \n",
    "#those values instead of predicting them. We can also specify what kind of household, eg single person, full time\n",
    "#https://github.com/utwente-energy/alpg\n",
    "import numpy as np\n",
    "filename = mydir + '/load_profile.csv'\n",
    "load_profile_min = np.loadtxt(filename, delimiter=',') #This give the load profile every 1 minute\n",
    "\n",
    "load_profile = load_profile_min[::30]/1000 #extract the 30th index at each stage\n",
    "print(load_profile)"
   ]
  },
  {
   "cell_type": "code",
   "execution_count": 4,
   "id": "ae9e06cc",
   "metadata": {},
   "outputs": [
    {
     "name": "stdout",
     "output_type": "stream",
     "text": [
      "[0.0, 0.0, 0.0, 0.0, 0.0, 0.0, 0.0, 0.0, 0.0, 0.0, 0.0, 0.0, 6.11, 0.3, 4.65, 3.55, 7.94, 0.25, 6.67, 4.64, 9.31, 0.6, 5.86, 9.59, 2.69, 2.09, 7.22, 2.31, 3.21, 9.43, 0.16, 6.09, 8.93, 9.45, 4.02, 2.2, 3.05, 0.47, 6.53, 1.95, 0.0, 0.0, 0.0, 0.0, 0.0, 0.0, 0.0, 0.0]\n"
     ]
    }
   ],
   "source": [
    "#insolation\n",
    "#This is read in from a txt file. This is some example data but I can access more now.\n",
    "#As it is a txt file we need to index it directly but I managed to work it out :)\n",
    "#http://www.bom.gov.au/climate/data/oneminsolar/about-IDCJAC0022.shtml\n",
    "my_file = open('sol.txt', 'r')\n",
    "data = my_file.read()\n",
    "\n",
    "idx_data_start = 2249\n",
    "idx_entry_len = 253\n",
    "idx_sol_start = 30\n",
    "idx_sol_end = 34\n",
    "\n",
    "sol = []\n",
    "for i in range(0,48): #\n",
    "    sol.append(float(data[idx_data_start+30*i*idx_entry_len+idx_sol_start:idx_data_start+i*30*idx_entry_len+idx_sol_end]))\n",
    "    \n",
    "print(sol)"
   ]
  },
  {
   "cell_type": "code",
   "execution_count": 7,
   "id": "bca2b4fe",
   "metadata": {},
   "outputs": [
    {
     "name": "stdout",
     "output_type": "stream",
     "text": [
      "4800\n"
     ]
    }
   ],
   "source": [
    "#load data for 100 days\n",
    "#same source but for 100 days. Also related to the insolation profile\n",
    "load_file = mydir + '/Electricity_Profile.csv'\n",
    "load_profile_min = np.loadtxt(load_file, delimiter=',') #This give the load profile every 1 minute\n",
    "\n",
    "load_profile = load_profile_min[::30]/1000 #extract the 30th index at each stage\n",
    "print(len(load_profile))"
   ]
  }
 ],
 "metadata": {
  "kernelspec": {
   "display_name": "Python 3 (ipykernel)",
   "language": "python",
   "name": "python3"
  },
  "language_info": {
   "codemirror_mode": {
    "name": "ipython",
    "version": 3
   },
   "file_extension": ".py",
   "mimetype": "text/x-python",
   "name": "python",
   "nbconvert_exporter": "python",
   "pygments_lexer": "ipython3",
   "version": "3.9.16"
  }
 },
 "nbformat": 4,
 "nbformat_minor": 5
}
